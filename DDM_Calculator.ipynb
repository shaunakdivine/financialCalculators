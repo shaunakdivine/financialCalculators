{
 "cells": [
  {
   "cell_type": "markdown",
   "metadata": {},
   "source": [
    "## Problem 9\n",
    "Write an elementary Python program that automates Problem 8. Query the user for the needed, pertinent\n",
    "information (including the stock ticker, forecasted dividends, and growth rates), then compute the estimated\n",
    "value of the stock. Compare with the current market price and make a buy, sell, or hold recommendation.\n",
    "Make sure that you incorporate appropriate error-handling procedures."
   ]
  },
  {
   "cell_type": "code",
   "execution_count": 24,
   "metadata": {},
   "outputs": [
    {
     "name": "stdout",
     "output_type": "stream",
     "text": [
      "\n",
      "Intrinsic Value of WMT Today: $61.92\n",
      "\n",
      "Actual Current Share Price of WMT: $67.22\n",
      "Recommendation: Sell\n"
     ]
    }
   ],
   "source": [
    "import yfinance as yf\n",
    "\n",
    "from datetime import datetime\n",
    "\n",
    "def make_recommendation(total_value, current_price):\n",
    "    if total_value > current_price:\n",
    "        recommendation = \"Buy\"\n",
    "    elif total_value < current_price:\n",
    "        recommendation = \"Sell\"\n",
    "    else:\n",
    "        recommendation = \"Hold\"\n",
    "    return recommendation\n",
    "\n",
    "def get_user_input():\n",
    "     try:\n",
    "        ticker = str(input(\"Hello, enter the desired stock ticker: \"))\n",
    "        forecasted_periods = int(input(\"Enter the number of years you have forecasted dividends: \"))\n",
    "        dividends = []\n",
    "        for year in range(1, forecasted_periods + 1):\n",
    "                dividend = float(input(f\"Enter the forecasted dividend for year {year}: \"))\n",
    "                dividends.append(dividend)\n",
    "\n",
    "        terminal_growth_rate = float(input(\"Enter the terminal growth rate as decimal: \"))\n",
    "        discount_rate = float(input(\"Enter the discount rate as decimal: \"))\n",
    "\n",
    "        return ticker, dividends, terminal_growth_rate, discount_rate\n",
    "     except ValueError as e:\n",
    "        print(\"Invalid input, please check your values.\")\n",
    "        return get_user_input()\n",
    "        \n",
    "def yearfrac(start_date, end_date):\n",
    "    days_in_year = 365\n",
    "    return (end_date - start_date).days / days_in_year\n",
    "\n",
    "def calculateStockValue():\n",
    "\n",
    "    ticker, dividends, terminal_growth_rate, discount_rate = get_user_input()\n",
    "    # Current market price\n",
    "    stock = yf.Ticker(ticker)\n",
    "    stock_price = stock.history(period='1d')['Close'][0]\n",
    "        \n",
    "    \n",
    "    present_value_dividends = 0\n",
    "    today = datetime.now()\n",
    "    year_end_date = datetime(today.year, 12, 31)\n",
    "    first_year_fraction = yearfrac(today, year_end_date)\n",
    "\n",
    "    for i, dividend in enumerate(dividends):\n",
    "        discount_exponent = i + first_year_fraction\n",
    "        #print(discount_exponent)\n",
    "        present_value_dividends += dividend / ((1 + discount_rate) ** discount_exponent)\n",
    "        #print(dividend / ((1 + discount_rate) ** discount_exponent))\n",
    "\n",
    "\n",
    "    \n",
    "    terminal_value = dividends[-1] * (1 + terminal_growth_rate) / (discount_rate - terminal_growth_rate)\n",
    "    #print(terminal_value)\n",
    "    present_value_terminal_value = terminal_value / ((1 + discount_rate) ** (discount_exponent))\n",
    "    #print(present_value_terminal_value)\n",
    "\n",
    "    total_value = present_value_dividends + present_value_terminal_value\n",
    "\n",
    "\n",
    "    print(f\"\\nIntrinsic Value of {ticker} Today: ${total_value:.2f}\")\n",
    "    print(f\"\\nActual Current Share Price of {ticker}: ${stock_price:.2f}\")\n",
    "    recommendation = make_recommendation(total_value, stock_price)\n",
    "    print(f\"Recommendation: {recommendation}\")\n",
    "\n",
    "\n",
    "\n",
    "    \n",
    "    \n",
    "    \n",
    "\n",
    "calculateStockValue()"
   ]
  }
 ],
 "metadata": {
  "kernelspec": {
   "display_name": "Python 3",
   "language": "python",
   "name": "python3"
  },
  "language_info": {
   "codemirror_mode": {
    "name": "ipython",
    "version": 3
   },
   "file_extension": ".py",
   "mimetype": "text/x-python",
   "name": "python",
   "nbconvert_exporter": "python",
   "pygments_lexer": "ipython3",
   "version": "3.10.7"
  }
 },
 "nbformat": 4,
 "nbformat_minor": 2
}
